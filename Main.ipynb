{
 "cells": [
  {
   "cell_type": "code",
   "execution_count": null,
   "id": "5c73add2",
   "metadata": {
    "vscode": {
     "languageId": "plaintext"
    }
   },
   "outputs": [],
   "source": [
    "from PIL import Image, ImageOps                   \n",
    "import numpy as np                     \n",
    "import os\n",
    "import matplotlib.pyplot as plt      \n",
    "plt.style.use(\"ggplot\")"
   ]
  },
  {
   "cell_type": "code",
   "execution_count": null,
   "id": "bc7a09bf",
   "metadata": {
    "vscode": {
     "languageId": "plaintext"
    }
   },
   "outputs": [],
   "source": [
    "def img_data(imgPath,disp = True):\n",
    "    \n",
    "    orig_img = Image.open(imgPath)\n",
    "    \n",
    "    img_size_kb = os.stat(imgPath).st_size/1024\n",
    "    \n",
    "    ori_pixels = np.array(orig_img.getdata()).reshape(*orig_img.size, -1)\n",
    "    \n",
    "    img_dim = ori_pixels.shape \n",
    "    \n",
    "    if disp:\n",
    "        plt.imshow(orig_img)\n",
    "        plt.show()\n",
    "    \n",
    "    data_dict = {}\n",
    "    data_dict['img_size_kb'] = img_size_kb\n",
    "    data_dict['img_dim'] = img_dim\n",
    "    \n",
    "    return data_dict"
   ]
  },
  {
   "cell_type": "code",
   "execution_count": null,
   "id": "8a911c69",
   "metadata": {
    "vscode": {
     "languageId": "plaintext"
    }
   },
   "outputs": [],
   "source": [
    "imgPath = 'test1.jpg';\n",
    "\n",
    "data_dict_ori = img_data(imgPath)\n",
    "\n",
    "print('Original Image Data')\n",
    "print('Original Image size (kB)',data_dict_ori['img_size_kb'])\n",
    "print('Original Image Shape',data_dict_ori['img_dim'])"
   ]
  },
  {
   "cell_type": "code",
   "execution_count": null,
   "id": "c4cee29b",
   "metadata": {
    "vscode": {
     "languageId": "plaintext"
    }
   },
   "outputs": [],
   "source": [
    "from sklearn.decomposition import PCA\n",
    "\n",
    "def pca_compose(imgPath):\n",
    "    \n",
    "    orig_img = Image.open(imgPath)\n",
    "    img = np.array(orig_img.getdata())\n",
    "    img = img.reshape(*orig_img.size, -1)\n",
    "    pca_channel = {}\n",
    "    img_t = np.transpose(img) \n",
    "    \n",
    "    for i in range(img.shape[-1]):    \n",
    "        \n",
    "        per_channel = img_t[i] \n",
    "        \n",
    "        channel = img_t[i].reshape(*img.shape[:-1])  \n",
    "        \n",
    "        pca = PCA(random_state = 42)                \n",
    "        \n",
    "        fit_pca = pca.fit_transform(channel)        \n",
    "        \n",
    "        pca_channel[i] = (pca,fit_pca)  \n",
    "        \n",
    "    return pca_channel"
   ]
  },
  {
   "cell_type": "code",
   "execution_count": null,
   "id": "a22fb9ea",
   "metadata": {
    "vscode": {
     "languageId": "plaintext"
    }
   },
   "outputs": [],
   "source": [
    "pca_channel = pca_compose(imgPath)\n",
    "len(pca_channel)"
   ]
  },
  {
   "cell_type": "code",
   "execution_count": null,
   "id": "c65302a4",
   "metadata": {
    "vscode": {
     "languageId": "plaintext"
    }
   },
   "outputs": [],
   "source": [
    "var_exp = explained_var_n(pca_channel, 1023)\n",
    "\n",
    "print(\"Explained variance in percentage by PCA : \", var_exp*100,\"%\")"
   ]
  },
  {
   "cell_type": "code",
   "execution_count": null,
   "id": "3bc3287e",
   "metadata": {
    "vscode": {
     "languageId": "plaintext"
    }
   },
   "outputs": [],
   "source": [
    "def variance_added_pc(pca_channel):\n",
    "    \n",
    "    var_exp_channel = [];var_exp=0;\n",
    "    \n",
    "    for channel in pca_channel:\n",
    "        pca,_ = pca_channel[channel]\n",
    "        var_exp_channel.append(pca.explained_variance_ratio_)\n",
    "        \n",
    "    var_exp = (var_exp_channel[0]+var_exp_channel[1]+var_exp_channel[2])/3\n",
    "    \n",
    "    x = list(var_exp);y = list(range(1,1+len(x)));y = list(range(1,21))\n",
    "    \n",
    "    plt.yticks(np.arange(0, max(x)+0.05,0.05))\n",
    "    plt.xticks(np.arange(min(y), max(y)+1,1))\n",
    "    plt.title(\"Individual Variance for each Principal Component\")\n",
    "    plt.ylabel('Variance')\n",
    "    plt.xlabel('Principal Component');\n",
    "    plt.bar(y,x[:20],color = 'black')\n",
    "    plt.show()"
   ]
  },
  {
   "cell_type": "code",
   "execution_count": null,
   "id": "0e23f094",
   "metadata": {
    "vscode": {
     "languageId": "plaintext"
    }
   },
   "outputs": [],
   "source": [
    "variance_added_pc(pca_channel)"
   ]
  },
  {
   "cell_type": "code",
   "execution_count": null,
   "id": "4c96a4d6",
   "metadata": {
    "vscode": {
     "languageId": "plaintext"
    }
   },
   "outputs": [],
   "source": [
    "def plot_variance_pc(pca_channel):\n",
    "    \n",
    "    pca,fit_pca = pca_channel[0]\n",
    "    \n",
    "    exp_var = {}\n",
    "    \n",
    "    for i in range(len(pca.components_)):\n",
    "        var_exp = explained_var_n(pca_channel,i)\n",
    "        exp_var[i+1] = var_exp\n",
    "    \n",
    "    lists = sorted(exp_var.items()) \n",
    "    \n",
    "    x, y = zip(*lists) \n",
    "    \n",
    "    pt90 = next(xx[0] for xx in enumerate(y) if xx[1] > 0.9)\n",
    "    pt95 = next(xx[0] for xx in enumerate(y) if xx[1] > 0.95)\n",
    "    \n",
    "    plt.plot(x, y)\n",
    "    plt.vlines(x=x[pt90], ymin=0, ymax=y[pt90], colors='green',  ls=':', lw=2, label=str('90% Variance Explained : n = '+str(x[pt90])))\n",
    "    plt.vlines(x=x[pt95], ymin=0, ymax=y[pt95], colors='red', ls=':', lw=2, label=str('95% Variance Explained : n = '+str(x[pt95])))\n",
    "    \n",
    "    plt.xticks(np.arange(min(x)-1, max(x)-1,100))\n",
    "    plt.yticks(np.arange(0, max(y),0.1))\n",
    "    \n",
    "    plt.legend(loc=\"lower right\")\n",
    "    plt.title(\"Variance vs Principal Components\")\n",
    "    plt.xlabel(\"Principal Components\")\n",
    "    plt.ylabel(\"Variance Explained\")\n",
    "    plt.grid(True)\n",
    "    plt.show()"
   ]
  },
  {
   "cell_type": "code",
   "execution_count": null,
   "id": "55000686",
   "metadata": {
    "vscode": {
     "languageId": "plaintext"
    }
   },
   "outputs": [],
   "source": [
    "plot_variance_pc(pca_channel)"
   ]
  }
 ],
 "metadata": {
  "language_info": {
   "name": "python"
  }
 },
 "nbformat": 4,
 "nbformat_minor": 5
}
