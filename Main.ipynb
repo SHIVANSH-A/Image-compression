{
 "cells": [
  {
   "cell_type": "code",
   "execution_count": null,
   "id": "5c73add2",
   "metadata": {
    "vscode": {
     "languageId": "plaintext"
    }
   },
   "outputs": [],
   "source": [
    "from PIL import Image, ImageOps                   \n",
    "import numpy as np                     \n",
    "import os\n",
    "import matplotlib.pyplot as plt      \n",
    "plt.style.use(\"ggplot\")"
   ]
  },
  {
   "cell_type": "code",
   "execution_count": null,
   "id": "bc7a09bf",
   "metadata": {
    "vscode": {
     "languageId": "plaintext"
    }
   },
   "outputs": [],
   "source": [
    "def img_data(imgPath,disp = True):\n",
    "    \n",
    "    orig_img = Image.open(imgPath)\n",
    "    \n",
    "    img_size_kb = os.stat(imgPath).st_size/1024\n",
    "    \n",
    "    ori_pixels = np.array(orig_img.getdata()).reshape(*orig_img.size, -1)\n",
    "    \n",
    "    img_dim = ori_pixels.shape \n",
    "    \n",
    "    if disp:\n",
    "        plt.imshow(orig_img)\n",
    "        plt.show()\n",
    "    \n",
    "    data_dict = {}\n",
    "    data_dict['img_size_kb'] = img_size_kb\n",
    "    data_dict['img_dim'] = img_dim\n",
    "    \n",
    "    return data_dict"
   ]
  },
  {
   "cell_type": "code",
   "execution_count": null,
   "id": "8a911c69",
   "metadata": {
    "vscode": {
     "languageId": "plaintext"
    }
   },
   "outputs": [],
   "source": [
    "imgPath = 'test1.jpg';\n",
    "\n",
    "data_dict_ori = img_data(imgPath)\n",
    "\n",
    "print('Original Image Data')\n",
    "print('Original Image size (kB)',data_dict_ori['img_size_kb'])\n",
    "print('Original Image Shape',data_dict_ori['img_dim'])"
   ]
  },
  {
   "cell_type": "code",
   "execution_count": null,
   "id": "c4cee29b",
   "metadata": {
    "vscode": {
     "languageId": "plaintext"
    }
   },
   "outputs": [],
   "source": [
    "from sklearn.decomposition import PCA\n",
    "\n",
    "def pca_compose(imgPath):\n",
    "    \n",
    "    orig_img = Image.open(imgPath)\n",
    "    img = np.array(orig_img.getdata())\n",
    "    img = img.reshape(*orig_img.size, -1)\n",
    "    pca_channel = {}\n",
    "    img_t = np.transpose(img) \n",
    "    \n",
    "    for i in range(img.shape[-1]):    \n",
    "        \n",
    "        per_channel = img_t[i] \n",
    "        \n",
    "        channel = img_t[i].reshape(*img.shape[:-1])  \n",
    "        \n",
    "        pca = PCA(random_state = 42)                \n",
    "        \n",
    "        fit_pca = pca.fit_transform(channel)        \n",
    "        \n",
    "        pca_channel[i] = (pca,fit_pca)  \n",
    "        \n",
    "    return pca_channel"
   ]
  }
 ],
 "metadata": {
  "language_info": {
   "name": "python"
  }
 },
 "nbformat": 4,
 "nbformat_minor": 5
}
